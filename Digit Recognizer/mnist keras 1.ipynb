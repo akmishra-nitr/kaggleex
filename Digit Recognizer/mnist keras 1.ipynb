{
 "cells": [
  {
   "cell_type": "code",
   "execution_count": 12,
   "metadata": {},
   "outputs": [],
   "source": [
    "import numpy as np\n",
    "import pandas as pd\n",
    "\n",
    "import seaborn as sns\n",
    "import matplotlib.pyplot as plt\n",
    "\n",
    "from keras import layers\n",
    "from keras.layers import Input, Dense, Flatten, Conv2D, MaxPooling2D, Dropout\n",
    "from keras.models import Model\n",
    "from keras.utils.np_utils import to_categorical\n",
    "from sklearn.model_selection import train_test_split\n",
    "\n",
    "%matplotlib inline"
   ]
  },
  {
   "cell_type": "code",
   "execution_count": 13,
   "metadata": {
    "collapsed": true
   },
   "outputs": [],
   "source": [
    "# Load the data\n",
    "train_data = pd.read_csv(f\"C:\\\\Users\\\\Arun\\\\Desktop\\\\kaggle\\\\digit-recognizer\\\\train.csv\")\n",
    "test_data = pd.read_csv(f\"C:\\\\Users\\\\Arun\\\\Desktop\\\\kaggle\\\\digit-recognizer\\\\test.csv\")"
   ]
  },
  {
   "cell_type": "code",
   "execution_count": 14,
   "metadata": {},
   "outputs": [
    {
     "name": "stdout",
     "output_type": "stream",
     "text": [
      "Train (42000, 785)\n",
      "Test (28000, 784)\n"
     ]
    }
   ],
   "source": [
    "print('Train '+ str(train_data.shape))\n",
    "print('Test '+ str(test_data.shape))"
   ]
  },
  {
   "cell_type": "code",
   "execution_count": 15,
   "metadata": {},
   "outputs": [
    {
     "data": {
      "text/plain": [
       "<matplotlib.image.AxesImage at 0x1790fa20>"
      ]
     },
     "execution_count": 15,
     "metadata": {},
     "output_type": "execute_result"
    },
    {
     "data": {
      "image/png": "[encoded data removed]",
      "text/plain": [
       "<matplotlib.figure.Figure at 0x172d1908>"
      ]
     },
     "metadata": {},
     "output_type": "display_data"
    }
   ],
   "source": [
    "y_data = train_data['label']\n",
    "#y_data = pd.get_dummies(y_data)\n",
    "X_data = train_data.drop('label',axis=1)\n",
    "del train_data\n",
    "plt.imshow(X_data.iloc[3].values.reshape(28,28), cmap='gist_gray')"
   ]
  },
  {
   "cell_type": "code",
   "execution_count": 16,
   "metadata": {
    "collapsed": true
   },
   "outputs": [],
   "source": [
    "#Normalize\n",
    "X_data = X_data / 255.0\n",
    "test_data = test_data / 255.0\n",
    "\n",
    "# Reshape\n",
    "X_data = X_data.values.reshape(-1,28,28,1)\n",
    "test_data = test_data.values.reshape(-1,28,28,1)\n",
    "\n",
    "# convert to one-hot-encoding\n",
    "y_data = to_categorical(y_data, num_classes = 10)"
   ]
  },
  {
   "cell_type": "code",
   "execution_count": 17,
   "metadata": {
    "collapsed": true
   },
   "outputs": [],
   "source": [
    "# training and validation set\n",
    "X_train, X_val, Y_train, Y_val = train_test_split(X_data, y_data, test_size = 0.1, random_state=2)"
   ]
  },
  {
   "cell_type": "code",
   "execution_count": 18,
   "metadata": {
    "collapsed": true
   },
   "outputs": [],
   "source": [
    "def DigitRecognizerModel(input_shape):\n",
    "    \"\"\"\n",
    "    Implementation of the DigitRecognizerModel.\n",
    "    \n",
    "    Arguments:\n",
    "    input_shape -- shape of the images of the dataset\n",
    "\n",
    "    Returns:\n",
    "    model -- a Model() instance in Keras\n",
    "    \"\"\"\n",
    "    \n",
    "    # input placeholder with shape input_shape\n",
    "    X_input = Input((28,28,1))\n",
    "    \n",
    "    # layer 1\n",
    "    X = Conv2D(8, (5, 5), strides = (1, 1), name = 'conv0', padding='same', activation='relu')(X_input)\n",
    "    X = MaxPooling2D(pool_size=(2,2),name='maxpool')(X)\n",
    "    X = Dropout(0.25)(X)\n",
    "    \n",
    "    # layer 2\n",
    "    X = Conv2D(filters = 16, kernel_size = (3,3),padding = 'Same', activation ='relu')(X)\n",
    "    X = MaxPooling2D(pool_size=(2,2), strides=(2,2))(X)\n",
    "    X = Dropout(0.25)(X)\n",
    "    \n",
    "    # layer 3\n",
    "    X = Flatten()(X)\n",
    "    X = Dense(256, activation = \"relu\")(X)\n",
    "    X = Dropout(0.25)(X)\n",
    "    \n",
    "    # output layer\n",
    "    X = Dense(10, activation = \"softmax\")(X)\n",
    "    \n",
    "    # model\n",
    "    model = Model(inputs = X_input, outputs = X, name='DigitRecognizerModel')\n",
    "    \n",
    "    return model"
   ]
  },
  {
   "cell_type": "code",
   "execution_count": 19,
   "metadata": {},
   "outputs": [],
   "source": [
    "# create model\n",
    "model = DigitRecognizerModel(X_train.shape[1:4])"
   ]
  },
  {
   "cell_type": "code",
   "execution_count": 20,
   "metadata": {
    "collapsed": true
   },
   "outputs": [],
   "source": [
    "model.compile(optimizer='Adam',loss='binary_crossentropy',metrics=[\"accuracy\"])"
   ]
  },
  {
   "cell_type": "code",
   "execution_count": 21,
   "metadata": {},
   "outputs": [
    {
     "name": "stdout",
     "output_type": "stream",
     "text": [
      "Epoch 1/20\n",
      "37800/37800 [==============================] - 44s 1ms/step - loss: 0.0471 - acc: 0.9833\n",
      "Epoch 2/20\n",
      "37800/37800 [==============================] - 45s 1ms/step - loss: 0.0215 - acc: 0.9924\n",
      "Epoch 3/20\n",
      "37800/37800 [==============================] - 44s 1ms/step - loss: 0.0176 - acc: 0.9938\n",
      "Epoch 4/20\n",
      "37800/37800 [==============================] - 45s 1ms/step - loss: 0.0151 - acc: 0.9948\n",
      "Epoch 5/20\n",
      "37800/37800 [==============================] - 44s 1ms/step - loss: 0.0133 - acc: 0.9955\n",
      "Epoch 6/20\n",
      "37800/37800 [==============================] - 41s 1ms/step - loss: 0.0126 - acc: 0.9957\n",
      "Epoch 7/20\n",
      "37800/37800 [==============================] - 43s 1ms/step - loss: 0.0111 - acc: 0.9963\n",
      "Epoch 8/20\n",
      "37800/37800 [==============================] - 43s 1ms/step - loss: 0.0108 - acc: 0.9963\n",
      "Epoch 9/20\n",
      "37800/37800 [==============================] - 43s 1ms/step - loss: 0.0103 - acc: 0.9965\n",
      "Epoch 10/20\n",
      "37800/37800 [==============================] - 44s 1ms/step - loss: 0.0102 - acc: 0.9966\n",
      "Epoch 11/20\n",
      "37800/37800 [==============================] - 44s 1ms/step - loss: 0.0089 - acc: 0.9968\n",
      "Epoch 12/20\n",
      "37800/37800 [==============================] - 44s 1ms/step - loss: 0.0084 - acc: 0.9971\n",
      "Epoch 13/20\n",
      "37800/37800 [==============================] - 45s 1ms/step - loss: 0.0083 - acc: 0.9970\n",
      "Epoch 14/20\n",
      "37800/37800 [==============================] - 45s 1ms/step - loss: 0.0084 - acc: 0.9972\n",
      "Epoch 15/20\n",
      "37800/37800 [==============================] - 45s 1ms/step - loss: 0.0077 - acc: 0.9975\n",
      "Epoch 16/20\n",
      "37800/37800 [==============================] - 45s 1ms/step - loss: 0.0075 - acc: 0.9976\n",
      "Epoch 17/20\n",
      "37800/37800 [==============================] - 45s 1ms/step - loss: 0.0077 - acc: 0.9974\n",
      "Epoch 18/20\n",
      "37800/37800 [==============================] - 44s 1ms/step - loss: 0.0078 - acc: 0.9975\n",
      "Epoch 19/20\n",
      "37800/37800 [==============================] - 45s 1ms/step - loss: 0.0070 - acc: 0.9976\n",
      "Epoch 20/20\n",
      "37800/37800 [==============================] - 45s 1ms/step - loss: 0.0072 - acc: 0.9976: 1s - lo\n"
     ]
    },
    {
     "data": {
      "text/plain": [
       "<keras.callbacks.History at 0x15f9f5c0>"
      ]
     },
     "execution_count": 21,
     "metadata": {},
     "output_type": "execute_result"
    }
   ],
   "source": [
    "model.fit(x=X_train,y=Y_train,batch_size=16,epochs=20)"
   ]
  },
  {
   "cell_type": "code",
   "execution_count": 22,
   "metadata": {},
   "outputs": [
    {
     "name": "stdout",
     "output_type": "stream",
     "text": [
      "4200/4200 [==============================] - 2s 453us/step\n",
      "Loss = 0.008654725619784412\n",
      "Test Accuracy = 0.9974285663877215\n"
     ]
    }
   ],
   "source": [
    "# evaluate model using validation data set\n",
    "preds = model.evaluate(x=X_val,y=Y_val)\n",
    "print (\"Loss = \" + str(preds[0]))\n",
    "print (\"Test Accuracy = \" + str(preds[1]))"
   ]
  },
  {
   "cell_type": "code",
   "execution_count": 23,
   "metadata": {
    "collapsed": true
   },
   "outputs": [],
   "source": [
    "output = pd.read_csv(f\"C:\\\\Users\\\\Arun\\\\Desktop\\\\kaggle\\\\digit-recognizer\\\\sample_submission.csv\")"
   ]
  },
  {
   "cell_type": "code",
   "execution_count": 25,
   "metadata": {},
   "outputs": [],
   "source": [
    "# predict test data\n",
    "Y_pred = model.predict(test_data)\n",
    "output['Label'] = np.argmax(Y_pred,axis = 1)"
   ]
  },
  {
   "cell_type": "code",
   "execution_count": 26,
   "metadata": {
    "collapsed": true
   },
   "outputs": [],
   "source": [
    "output.to_csv('submission.csv',index=False)"
   ]
  },
  {
   "cell_type": "markdown",
   "metadata": {},
   "source": [
    "adapted from https://www.kaggle.com/kanncaa1/convolutional-neural-network-cnn-tutorial"
   ]
  }
 ],
 "metadata": {
  "kernelspec": {
   "display_name": "Python 3",
   "language": "python",
   "name": "python3"
  },
  "language_info": {
   "codemirror_mode": {
    "name": "ipython",
    "version": 3
   },
   "file_extension": ".py",
   "mimetype": "text/x-python",
   "name": "python",
   "nbconvert_exporter": "python",
   "pygments_lexer": "ipython3",
   "version": "3.6.3"
  }
 },
 "nbformat": 4,
 "nbformat_minor": 2
}
